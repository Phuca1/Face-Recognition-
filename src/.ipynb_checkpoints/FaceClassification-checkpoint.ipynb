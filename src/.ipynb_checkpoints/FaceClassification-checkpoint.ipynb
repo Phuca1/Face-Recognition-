{
 "cells": [
  {
   "cell_type": "code",
   "execution_count": 2,
   "metadata": {},
   "outputs": [],
   "source": [
    "import os\n",
    "import glob"
   ]
  },
  {
   "cell_type": "markdown",
   "metadata": {},
   "source": [
    "#### load data"
   ]
  },
  {
   "cell_type": "code",
   "execution_count": 5,
   "metadata": {},
   "outputs": [
    {
     "name": "stdout",
     "output_type": "stream",
     "text": [
      "images in JVEvermind : 52\n",
      "images in MCK : 35\n",
      "images in LeBao : 20\n",
      "images in TranDan : 36\n",
      "images in SonTungMTP : 26\n"
     ]
    }
   ],
   "source": [
    "base_dir = \"/home/ntp/DeepLearning/face-recognition/src/image\"\n",
    "\n",
    "train_dir = os.path.join(base_dir,'train')\n",
    "\n",
    "test_dir = os.path.join(base_dir,'test')\n",
    "\n",
    "list_face = os.listdir(train_dir)\n",
    "\n",
    "for item in list_face:\n",
    "    temp = os.path.join(train_dir, item)\n",
    "    print('images in {} : {}'.format(item, len(os.listdir(temp))))\n"
   ]
  },
  {
   "cell_type": "code",
   "execution_count": null,
   "metadata": {},
   "outputs": [],
   "source": [
    "!pip install Keras == "
   ]
  }
 ],
 "metadata": {
  "kernelspec": {
   "display_name": "Python 3",
   "language": "python",
   "name": "python3"
  },
  "language_info": {
   "codemirror_mode": {
    "name": "ipython",
    "version": 3
   },
   "file_extension": ".py",
   "mimetype": "text/x-python",
   "name": "python",
   "nbconvert_exporter": "python",
   "pygments_lexer": "ipython3",
   "version": "3.8.5"
  }
 },
 "nbformat": 4,
 "nbformat_minor": 4
}
